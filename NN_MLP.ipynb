{
 "cells": [
  {
   "cell_type": "code",
   "execution_count": 1,
   "metadata": {},
   "outputs": [],
   "source": [
    "import os\n",
    "import pandas as pd\n",
    "import numpy as np\n",
    "import matplotlib\n",
    "import matplotlib.pyplot as plt\n",
    "import sklearn\n",
    "from sklearn.model_selection import train_test_split"
   ]
  },
  {
   "cell_type": "code",
   "execution_count": 2,
   "metadata": {},
   "outputs": [],
   "source": [
    "import joblib\n",
    "import sklearn.metrics\n",
    "import sklearn.model_selection\n",
    "import sklearn.neural_network"
   ]
  },
  {
   "cell_type": "markdown",
   "metadata": {},
   "source": [
    "# MLP 모델"
   ]
  },
  {
   "cell_type": "code",
   "execution_count": 3,
   "metadata": {},
   "outputs": [],
   "source": [
    "#train and evaluate\n",
    "\n",
    "def train_and_evaluate(X_train, y_train, X_test, y_test):\n",
    "    \n",
    "    #첫번째 모델 : sklearn.neural_network 라이브리의 MLP 분류기 사용\n",
    "    model = sklearn.neural_network.MLPClassifier(hidden_layer_sizes=(100,), activation='relu', solver='adam',\n",
    "                                                alpha = 0.0001, batch_size='auto', learning_rate='constant', learning_rate_init=0.001, power_t = 0.5,\n",
    "                                                max_iter = 1000, shuffle=True, random_state=None, tol = 0.0001, verbose = False,\n",
    "                                                warm_start=False, momentum=0.9, nesterovs_momentum=True, early_stopping=False,\n",
    "                                                validation_fraction=0.1, beta_1=0.9, beta_2 = 0.999, epsilon=1e-08,\n",
    "                                                n_iter_no_change=10)\n",
    "    \n",
    "    #train the model on the whole data set\n",
    "    model.fit(X_train, y_train)\n",
    "    \n",
    "    #save the model\n",
    "    joblib.dump(model, 'mlp_classifier.jbl')\n",
    "    \n",
    "    #evaluate on training data\n",
    "    print('\\n -- Training data --')\n",
    "    \n",
    "    predictions = model.predict(X_train)\n",
    "    accuracy = sklearn.metrics.accuracy_score(y_train, predictions)\n",
    "    print('Accuracy: {0:.2f}'.format(accuracy*100.0))\n",
    "    print('Classification Report:')\n",
    "    \n",
    "    print(sklearn.metrics.classification_report(y_train, predictions))\n",
    "    print('')\n",
    "    \n",
    "    #evaluate on test data\n",
    "    print('\\n -- Test data --')\n",
    "    predictions = model.predict(X_test)\n",
    "    \n",
    "    #print predictions and real value\n",
    "    df = pd.concat([pd.DataFrame(predictions, columns=['predictions']), pd.DataFrame(y_test.tolist(), columns=['y_test'])], axis=1)\n",
    "    display(df)\n",
    "    df.to_csv(\"MLP_predictions.csv\")\n",
    "    \n",
    "    #print accuracy & evaluation\n",
    "    accuracy = sklearn.metrics.accuracy_score(y_test, predictions)\n",
    "    print('Accuracy : {0:.2f}'.format(accuracy*100.0))\n",
    "    print('Classification Report:')\n",
    "    print(sklearn.metrics.classification_report(y_test, predictions))\n",
    "    print('Confusion Matrix:')\n",
    "    print(sklearn.metrics.confusion_matrix(y_test, predictions))\n"
   ]
  },
  {
   "cell_type": "markdown",
   "metadata": {},
   "source": [
    "## 교차검증"
   ]
  },
  {
   "cell_type": "code",
   "execution_count": 4,
   "metadata": {},
   "outputs": [],
   "source": [
    "from sklearn.model_selection import KFold, cross_val_score\n",
    "\n",
    "def cross_validate(features, label):\n",
    "    \n",
    "    #seed 는 아무거나~^^\n",
    "    seed=1771\n",
    "\n",
    "    #모델 불러오기\n",
    "    model = joblib.load('mlp_classifier.jbl')\n",
    "\n",
    "    #fold 수는 10으로 함.\n",
    "    kfold = KFold(n_splits=10, shuffle=True, random_state=seed)\n",
    "    results = cross_val_score(model, features, label, cv=kfold)\n",
    "    \n",
    "    print(\" -- Cross Validation -- \")\n",
    "    print(results)"
   ]
  },
  {
   "cell_type": "markdown",
   "metadata": {},
   "source": [
    "## 인코딩"
   ]
  },
  {
   "cell_type": "code",
   "execution_count": 5,
   "metadata": {},
   "outputs": [],
   "source": [
    "from sklearn.preprocessing import LabelEncoder\n",
    "\n",
    "def labeling(target):\n",
    "    encoder = LabelEncoder()\n",
    "    encoder.fit(target)\n",
    "    label = encoder.transform(target)\n",
    "    return label"
   ]
  },
  {
   "cell_type": "markdown",
   "metadata": {},
   "source": [
    "# 메인함수"
   ]
  },
  {
   "cell_type": "code",
   "execution_count": 6,
   "metadata": {},
   "outputs": [],
   "source": [
    "#The main entry point for this module\n",
    "def main():\n",
    "    \n",
    "    # load data set (includes header values)\n",
    "    dataset = pd.read_csv(\"Friday-WorkingHours-Afternoon-DDos.pcap_ISCX.csv\")\n",
    "    \n",
    "    # -- 전처리!!! -- \n",
    "    \n",
    "    # label/feature 나누기\n",
    "    label = dataset.iloc[:, -1]\n",
    "    features = dataset.iloc[:,:-1]\n",
    "    features.replace('Infinity', -1, inplace=True)\n",
    "    pd.value_counts(features[\" Flow Packets/s\"].values, sort=False)\n",
    "    label.replace(['BENIGN','DDoS'], [0,1], inplace=True) #inplace 해줘야 반영됨\n",
    "\n",
    "    # 인코딩\n",
    "    flow_id = features[\"Flow ID\"]\n",
    "    src_ip = features[\" Source IP\"]\n",
    "    dst_ip = features[\" Destination IP\"]\n",
    "    timestamp = features[\" Timestamp\"]\n",
    "    features[\"Flow ID\"] = labeling(flow_id)\n",
    "    features[\" Source IP\"] = labeling(src_ip)\n",
    "    features[\" Destination IP\"] = labeling(dst_ip)\n",
    "    features[\" Timestamp\"] = labeling(timestamp)\n",
    "    \n",
    "    #NaN 값을 0으로 (NUll -> 0으로 처리하는게 통계적으로 수용될 지 모르겠지만...)\n",
    "    features.fillna(0, inplace=True)\n",
    "\n",
    "    # -- 학습 & 테스트 -- \n",
    "    X_train, X_test, y_train, y_test = sklearn.model_selection.train_test_split(features,label,test_size=0.8, random_state=1886, stratify=label)\n",
    "    \n",
    "    # -- 평가 ---\n",
    "    '''\n",
    "    # make sure that data still is balanced\n",
    "    print(' -- Class balance -- ')\n",
    "    print(np.unique(y_train, return_counts=True))\n",
    "    print(np.unique(y_test, return_counts=True))\n",
    "    '''\n",
    "    \n",
    "    # train & evaluate - MLP(model)\n",
    "    print(\"MLP 모델 학습 및 테스트 결과.\")\n",
    "    train_and_evaluate(X_train, y_train, X_test, y_test) \n",
    "    \n",
    "    # 교차검증\n",
    "    cross_validate(features, label)"
   ]
  },
  {
   "cell_type": "code",
   "execution_count": 7,
   "metadata": {
    "scrolled": true
   },
   "outputs": [
    {
     "name": "stderr",
     "output_type": "stream",
     "text": [
      "/Library/Frameworks/Python.framework/Versions/3.8/lib/python3.8/site-packages/IPython/core/interactiveshell.py:3242: DtypeWarning: Columns (20,21) have mixed types. Specify dtype option on import or set low_memory=False.\n",
      "  if (await self.run_code(code, result,  async_=asy)):\n"
     ]
    },
    {
     "name": "stdout",
     "output_type": "stream",
     "text": [
      "MLP 모델 학습 및 테스트 결과.\n",
      "\n",
      " -- Training data --\n",
      "Accuracy: 99.16\n",
      "Classification Report:\n",
      "              precision    recall  f1-score   support\n",
      "\n",
      "           0       1.00      0.98      0.99     19544\n",
      "           1       0.99      1.00      0.99     25605\n",
      "\n",
      "    accuracy                           0.99     45149\n",
      "   macro avg       0.99      0.99      0.99     45149\n",
      "weighted avg       0.99      0.99      0.99     45149\n",
      "\n",
      "\n",
      "\n",
      " -- Test data --\n"
     ]
    },
    {
     "data": {
      "text/html": [
       "<div>\n",
       "<style scoped>\n",
       "    .dataframe tbody tr th:only-of-type {\n",
       "        vertical-align: middle;\n",
       "    }\n",
       "\n",
       "    .dataframe tbody tr th {\n",
       "        vertical-align: top;\n",
       "    }\n",
       "\n",
       "    .dataframe thead th {\n",
       "        text-align: right;\n",
       "    }\n",
       "</style>\n",
       "<table border=\"1\" class=\"dataframe\">\n",
       "  <thead>\n",
       "    <tr style=\"text-align: right;\">\n",
       "      <th></th>\n",
       "      <th>predictions</th>\n",
       "      <th>y_test</th>\n",
       "    </tr>\n",
       "  </thead>\n",
       "  <tbody>\n",
       "    <tr>\n",
       "      <th>0</th>\n",
       "      <td>0</td>\n",
       "      <td>0</td>\n",
       "    </tr>\n",
       "    <tr>\n",
       "      <th>1</th>\n",
       "      <td>0</td>\n",
       "      <td>0</td>\n",
       "    </tr>\n",
       "    <tr>\n",
       "      <th>2</th>\n",
       "      <td>1</td>\n",
       "      <td>1</td>\n",
       "    </tr>\n",
       "    <tr>\n",
       "      <th>3</th>\n",
       "      <td>0</td>\n",
       "      <td>0</td>\n",
       "    </tr>\n",
       "    <tr>\n",
       "      <th>4</th>\n",
       "      <td>0</td>\n",
       "      <td>0</td>\n",
       "    </tr>\n",
       "    <tr>\n",
       "      <th>...</th>\n",
       "      <td>...</td>\n",
       "      <td>...</td>\n",
       "    </tr>\n",
       "    <tr>\n",
       "      <th>180591</th>\n",
       "      <td>1</td>\n",
       "      <td>1</td>\n",
       "    </tr>\n",
       "    <tr>\n",
       "      <th>180592</th>\n",
       "      <td>0</td>\n",
       "      <td>0</td>\n",
       "    </tr>\n",
       "    <tr>\n",
       "      <th>180593</th>\n",
       "      <td>1</td>\n",
       "      <td>1</td>\n",
       "    </tr>\n",
       "    <tr>\n",
       "      <th>180594</th>\n",
       "      <td>0</td>\n",
       "      <td>0</td>\n",
       "    </tr>\n",
       "    <tr>\n",
       "      <th>180595</th>\n",
       "      <td>0</td>\n",
       "      <td>0</td>\n",
       "    </tr>\n",
       "  </tbody>\n",
       "</table>\n",
       "<p>180596 rows × 2 columns</p>\n",
       "</div>"
      ],
      "text/plain": [
       "        predictions  y_test\n",
       "0                 0       0\n",
       "1                 0       0\n",
       "2                 1       1\n",
       "3                 0       0\n",
       "4                 0       0\n",
       "...             ...     ...\n",
       "180591            1       1\n",
       "180592            0       0\n",
       "180593            1       1\n",
       "180594            0       0\n",
       "180595            0       0\n",
       "\n",
       "[180596 rows x 2 columns]"
      ]
     },
     "metadata": {},
     "output_type": "display_data"
    },
    {
     "name": "stdout",
     "output_type": "stream",
     "text": [
      "Accuracy : 99.18\n",
      "Classification Report:\n",
      "              precision    recall  f1-score   support\n",
      "\n",
      "           0       1.00      0.98      0.99     78174\n",
      "           1       0.99      1.00      0.99    102422\n",
      "\n",
      "    accuracy                           0.99    180596\n",
      "   macro avg       0.99      0.99      0.99    180596\n",
      "weighted avg       0.99      0.99      0.99    180596\n",
      "\n",
      "Confusion Matrix:\n",
      "[[ 76817   1357]\n",
      " [   115 102307]]\n",
      " -- Cross Validation -- \n",
      "[0.9986711  0.9862237  0.99269103 0.98848283 0.98671096 0.90692832\n",
      " 0.92247719 0.90294144 0.91042793 0.99437406]\n"
     ]
    }
   ],
   "source": [
    "if __name__ == \"__main__\":\n",
    "    main()"
   ]
  },
  {
   "cell_type": "code",
   "execution_count": null,
   "metadata": {},
   "outputs": [],
   "source": []
  }
 ],
 "metadata": {
  "kernelspec": {
   "display_name": "Python 3",
   "language": "python",
   "name": "python3"
  },
  "language_info": {
   "codemirror_mode": {
    "name": "ipython",
    "version": 3
   },
   "file_extension": ".py",
   "mimetype": "text/x-python",
   "name": "python",
   "nbconvert_exporter": "python",
   "pygments_lexer": "ipython3",
   "version": "3.8.1"
  }
 },
 "nbformat": 4,
 "nbformat_minor": 2
}
